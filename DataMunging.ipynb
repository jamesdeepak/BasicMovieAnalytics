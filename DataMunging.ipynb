{
 "cells": [
  {
   "cell_type": "markdown",
   "metadata": {},
   "source": [
    "### Importing python modules"
   ]
  },
  {
   "cell_type": "code",
   "execution_count": 10,
   "metadata": {
    "collapsed": true
   },
   "outputs": [],
   "source": [
    "import pandas as pd\n",
    "\n",
    "from pandasql import sqldf\n",
    "pysqldf = lambda q: sqldf(q, globals())\n",
    "\n",
    "import datetime \n",
    "from dateutil import parser\n"
   ]
  },
  {
   "cell_type": "code",
   "execution_count": 11,
   "metadata": {
    "collapsed": true
   },
   "outputs": [],
   "source": [
    "# functions to get date and year from a string datetime\n",
    "def to_date(datestring):\n",
    "    try:\n",
    "        date = dateutil.parser.parse(datestring)\n",
    "        return date\n",
    "    except:\n",
    "        return None\n",
    "\n",
    "def to_year(datestring):\n",
    "    try:\n",
    "        date = dateutil.parser.parse(datestring)\n",
    "        year = date.year\n",
    "        return year\n",
    "    except:\n",
    "        return None"
   ]
  },
  {
   "cell_type": "markdown",
   "metadata": {},
   "source": [
    "# Importing and Adjusting Inflation(CPI) table\n",
    "\n",
    "    - Create new column in with year\n",
    "    - get maximum inflation value by year\n",
    "    - put this in a new dataframe , file"
   ]
  },
  {
   "cell_type": "code",
   "execution_count": 12,
   "metadata": {
    "collapsed": false
   },
   "outputs": [],
   "source": [
    "rawInflation = \"/Users/deepakgautam/BasicMovieAnalytics/Files/CPIAUCSL.csv\"\n",
    "df_rawInf = pd.read_csv(rawInflation)"
   ]
  },
  {
   "cell_type": "code",
   "execution_count": 13,
   "metadata": {
    "collapsed": false
   },
   "outputs": [],
   "source": [
    "df_rawInf[\"YEAR\"] = df_rawInf[\"DATE\"].apply(to_year)\n",
    "\n",
    "# renaming CPIAUCSL to CPI \n",
    "df_rawInf.rename(columns = {'CPIAUCSL' : 'CPI'}, inplace = True)"
   ]
  },
  {
   "cell_type": "code",
   "execution_count": 14,
   "metadata": {
    "collapsed": false
   },
   "outputs": [],
   "source": [
    "q = \"Select max(CPI) as CPI, YEAR from df_rawInf group by(YEAR)\"\n",
    "df_inf = pysqldf(q)"
   ]
  },
  {
   "cell_type": "markdown",
   "metadata": {},
   "source": [
    "# Importing Movie Files"
   ]
  },
  {
   "cell_type": "code",
   "execution_count": 15,
   "metadata": {
    "collapsed": false
   },
   "outputs": [],
   "source": [
    "rawAllMovies = \"/Users/deepakgautam/BasicMovieAnalytics/Files/allMovies.csv\"\n",
    "df_rawAllMovies = pd.read_csv(rawAllMovies, encoding='latin1')"
   ]
  },
  {
   "cell_type": "code",
   "execution_count": 17,
   "metadata": {
    "collapsed": false
   },
   "outputs": [],
   "source": [
    "rawIndMovie = \"/Users/deepakgautam/BasicMovieAnalytics/Files/indMovieInfo.csv\"\n",
    "df_rawIndMovie = pd.read_csv(rawIndMovie, encoding='latin1')"
   ]
  },
  {
   "cell_type": "code",
   "execution_count": 18,
   "metadata": {
    "collapsed": false
   },
   "outputs": [],
   "source": [
    "# combining both movie file into one data frame\n",
    "q = \"Select table1.Rank, table1.MovieName as Movie, table1.Studio, table1.TotalDomestic, \\\n",
    "        table1.TheaterCountTotal, table1.TotalOpeningWeekend, table1.TheaterCountOW, table1.ReleaseDate, \\\n",
    "        table2.Distributor, table2.Genre, table2.RunTime, table2.Budget, table2.MPAA, table2.ForeignSale \\\n",
    "        from df_rawAllMovies as table1 \\\n",
    "        left join df_rawIndMovie as table2 \\\n",
    "         on table1.MovieName = table2.Movie \"\n",
    "\n",
    "rawMainMovie_df = pysqldf(q)"
   ]
  },
  {
   "cell_type": "code",
   "execution_count": 19,
   "metadata": {
    "collapsed": false
   },
   "outputs": [],
   "source": [
    "# Getting Release year to join with the inflation table\n",
    "rawMainMovie_df[\"ReleaseYear\"] = rawMainMovie_df[\"ReleaseDate\"].apply(to_year)\n"
   ]
  },
  {
   "cell_type": "markdown",
   "metadata": {},
   "source": [
    "## Joining Movie Table with Adjusted CPI Table\n",
    "    \n",
    "    - Make Base Year = 2016 \n",
    "    - Convert all movies money value info in 2016 terms\n",
    "    "
   ]
  },
  {
   "cell_type": "code",
   "execution_count": 20,
   "metadata": {
    "collapsed": false
   },
   "outputs": [],
   "source": [
    "q = \"select table1.*, table2.CPI from rawMainMovie_df as table1 \\\n",
    "     left join df_inf as table2 on table1.ReleaseYear = table2.YEAR\"\n",
    "mainMovie_df = pysqldf(q)\n"
   ]
  },
  {
   "cell_type": "code",
   "execution_count": 21,
   "metadata": {
    "collapsed": false
   },
   "outputs": [],
   "source": [
    "# Creating a inflation multiplier so that we can multiply all money \n",
    "# values by this (MAKING BASE YEAR 2016)\n",
    "\n",
    "q = \"select CPI from df_inf where YEAR = 2016 LIMIT 1\"\n",
    "baseYearCPI = pysqldf(q).loc[0][0]\n",
    "mainMovie_df[\"InflationMultiplier\"] = baseYearCPI/mainMovie_df[\"CPI\"]"
   ]
  },
  {
   "cell_type": "markdown",
   "metadata": {},
   "source": [
    "## Creating Inflation Adjusted Revenue and Cost Columns"
   ]
  },
  {
   "cell_type": "code",
   "execution_count": 22,
   "metadata": {
    "collapsed": false
   },
   "outputs": [],
   "source": [
    "# Creating new Columns with inflation adjusted values\n",
    "mainMovie_df[\"AdjTotalDomestic\"] = mainMovie_df[\"TotalDomestic\"]*mainMovie_df[\"InflationMultiplier\"]\n",
    "mainMovie_df[\"AdjTotalOpeningWeekend\"] = mainMovie_df[\"TotalOpeningWeekend\"]*mainMovie_df[\"InflationMultiplier\"]\n",
    "mainMovie_df[\"AdjBudget\"] = mainMovie_df[\"Budget\"]*mainMovie_df[\"InflationMultiplier\"]\n",
    "mainMovie_df[\"AdjForeignSale\"] = mainMovie_df[\"ForeignSale\"]*mainMovie_df[\"InflationMultiplier\"]"
   ]
  },
  {
   "cell_type": "code",
   "execution_count": 23,
   "metadata": {
    "collapsed": true
   },
   "outputs": [],
   "source": [
    "# Generating Release Month from ReleaseDate\n",
    "mainMovie_df['ReleaseMonth'] = [parser.parse(i).strftime(\"%B\") for i in mainMovie_df['ReleaseDate']]"
   ]
  },
  {
   "cell_type": "code",
   "execution_count": 24,
   "metadata": {
    "collapsed": true
   },
   "outputs": [],
   "source": [
    "# fucntion to get Season Information\n",
    "def getSeason(month):\n",
    "    if month in   ['December','January','February']:\n",
    "        return('Winter')\n",
    "    elif month in ['March','April','May']:\n",
    "        return('Spring') \n",
    "    elif month in ['June','July','August']:\n",
    "        return('Summer') \n",
    "    elif month in ['September','October','November']:\n",
    "        return('Fall') \n",
    "    else:\n",
    "        return('None')\n",
    "\n"
   ]
  },
  {
   "cell_type": "code",
   "execution_count": 25,
   "metadata": {
    "collapsed": true
   },
   "outputs": [],
   "source": [
    "# Generating Release Month from ReleaseDate\n",
    "mainMovie_df['ReleaseSeason'] = [getSeason(i) for i in mainMovie_df['ReleaseMonth']]"
   ]
  },
  {
   "cell_type": "code",
   "execution_count": 26,
   "metadata": {
    "collapsed": true
   },
   "outputs": [],
   "source": [
    "#Assigning a Base Genre eg. \"Comedy Drama\" gets assigned as \"Comedy\"\n",
    "mainMovie_df['MainGenre']= [(str(i) if i != None else 'None').partition(' ')[0] for i in mainMovie_df['Genre']]"
   ]
  },
  {
   "cell_type": "code",
   "execution_count": 27,
   "metadata": {
    "collapsed": false
   },
   "outputs": [],
   "source": [
    "# Getting Total Sales\n",
    "mainMovie_df['AdjTotalSales'] = [i for i in ([mainMovie_df['AdjTotalDomestic'].fillna(0) + mainMovie_df['AdjForeignSale'].fillna(0)])[0] ]"
   ]
  },
  {
   "cell_type": "code",
   "execution_count": 29,
   "metadata": {
    "collapsed": false
   },
   "outputs": [],
   "source": [
    "mainMovie_df.to_csv('/Users/deepakgautam/BasicMovieAnalytics/Files/mainMovie.csv', encoding='utf-8')"
   ]
  }
 ],
 "metadata": {
  "kernelspec": {
   "display_name": "Python 3",
   "language": "python",
   "name": "python3"
  },
  "language_info": {
   "codemirror_mode": {
    "name": "ipython",
    "version": 3
   },
   "file_extension": ".py",
   "mimetype": "text/x-python",
   "name": "python",
   "nbconvert_exporter": "python",
   "pygments_lexer": "ipython3",
   "version": "3.5.2"
  }
 },
 "nbformat": 4,
 "nbformat_minor": 0
}
